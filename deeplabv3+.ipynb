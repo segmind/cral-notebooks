{
 "cells": [
  {
   "cell_type": "code",
   "execution_count": 1,
   "metadata": {},
   "outputs": [],
   "source": [
    "from cral.pipeline.semantic_segmentation_pipeline import SemanticSegPipe\n",
    "from cral.tracking import set_experiment\n",
    "\n",
    "set_experiment('bb4b63b8-6457-42e1-b48f-d4d50d247d3b')\n",
    "\n",
    "new_pipe = SemanticSegPipe()"
   ]
  },
  {
   "cell_type": "markdown",
   "metadata": {},
   "source": [
    "# add data and create tfrecords"
   ]
  },
  {
   "cell_type": "code",
   "execution_count": 10,
   "metadata": {},
   "outputs": [],
   "source": [
    "new_pipe.add_data(\n",
    "    train_images_dir='./seg_data/mini_ADE20K/images/',\n",
    "    train_anno_dir='./seg_data/mini_ADE20K/annotations/',\n",
    "    annotation_format='grayscale',\n",
    "    split=0.2)\n",
    "\n",
    "new_pipe.lock_data()"
   ]
  },
  {
   "cell_type": "markdown",
   "metadata": {},
   "source": [
    "# set up Deeplabv3+"
   ]
  },
  {
   "cell_type": "code",
   "execution_count": 9,
   "metadata": {},
   "outputs": [],
   "source": [
    "from cral.models.semantic_segmentation.deeplabv3 import Deeplabv3Config\n",
    "from cral.models.semantic_segmentation.Unet import UNetConfig\n",
    "from cral.models.semantic_segmentation.PspNet import PspNetConfig\n",
    "\n",
    "deeplab_config = Deeplabv3Config(\n",
    "    height=576, \n",
    "    width=576, output_stride = 8)\n",
    "\n",
    "new_pipe.set_algo(\n",
    "    feature_extractor='resnet50',\n",
    "    config=deeplab_config)"
   ]
  },
  {
   "cell_type": "code",
   "execution_count": 8,
   "metadata": {},
   "outputs": [],
   "source": [
    "deeplab_config"
   ]
  },
  {
   "cell_type": "markdown",
   "metadata": {},
   "source": [
    "# train"
   ]
  },
  {
   "cell_type": "code",
   "execution_count": 5,
   "metadata": {
    "scrolled": true
   },
   "outputs": [],
   "source": [
    "# print(new_pipe.model.summary())\n",
    "\n",
    "new_pipe.train(\n",
    "    num_epochs=150,\n",
    "    snapshot_prefix='deeplab_resnet50',\n",
    "    snapshot_path='/tmp/aniketjoshi/',\n",
    "    snapshot_every_n=5\n",
    "    )"
   ]
  },
  {
   "cell_type": "markdown",
   "metadata": {},
   "source": [
    "# predict"
   ]
  },
  {
   "cell_type": "code",
   "execution_count": 6,
   "metadata": {},
   "outputs": [],
   "source": [
    "from cral.models.semantic_segmentation import annotate_image\n",
    "from cral.pipeline.semantic_segmentation_pipeline import SemanticSegPipe\n",
    "from IPython.display import display\n",
    "from cral.tracking import set_experiment\n",
    "\n",
    "# set_experiment('487f0813-c080-4d8b-8a9d-792b0acf8ad9')\n",
    "\n",
    "new_pipe = SemanticSegPipe()\n",
    "new_pipe.dcrf = True #enable or disable dcrf\n",
    "\n",
    "pred_func = new_pipe.prediction_model('./deeplab_resnet50/')"
   ]
  },
  {
   "cell_type": "code",
   "execution_count": 3,
   "metadata": {},
   "outputs": [],
   "source": [
    "import matplotlib.pyplot as plt\n",
    "import cv2\n",
    "import numpy as np"
   ]
  },
  {
   "cell_type": "code",
   "execution_count": 24,
   "metadata": {},
   "outputs": [],
   "source": [
    "image_path = './seg_data/mini_ADE20K/images/ADE_val_00000011.jpg'\n",
    "\n",
    "mask_array = pred_func(image_path)\n",
    "segmented_image = annotate_image(image_path, mask_array)\n",
    "\n",
    "display(segmented_image)"
   ]
  }
 ],
 "metadata": {
  "kernelspec": {
   "display_name": "cral",
   "language": "python",
   "name": "cral"
  },
  "language_info": {
   "codemirror_mode": {
    "name": "ipython",
    "version": 3
   },
   "file_extension": ".py",
   "mimetype": "text/x-python",
   "name": "python",
   "nbconvert_exporter": "python",
   "pygments_lexer": "ipython3",
   "version": "3.6.8"
  }
 },
 "nbformat": 4,
 "nbformat_minor": 2
}
