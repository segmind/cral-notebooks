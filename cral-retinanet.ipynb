{
 "cells": [
  {
   "cell_type": "markdown",
   "metadata": {},
   "source": [
    "# Imports"
   ]
  },
  {
   "cell_type": "code",
   "execution_count": 5,
   "metadata": {},
   "outputs": [],
   "source": [
    "import tensorflow as tf\n",
    "\n",
    "import os\n",
    "import tempfile\n",
    "import zipfile\n",
    "import tqdm\n",
    "import glob\n",
    "\n",
    "from cral.pipeline import ObjectDetectionPipe\n",
    "from cral.models.object_detection import RetinanetConfig\n",
    "\n",
    "from segmind import set_project\n",
    "set_project('33db9938-c62a-4c50-a3c8-9083acaf5dd2')"
   ]
  },
  {
   "cell_type": "markdown",
   "metadata": {},
   "source": [
    "# Download Chess dataset"
   ]
  },
  {
   "cell_type": "code",
   "execution_count": 6,
   "metadata": {},
   "outputs": [],
   "source": [
    "def download_chess_dataset(dataset_path=tempfile.gettempdir()):\n",
    "    zip_url = 'https://public.roboflow.ai/ds/uBYkFHtqpy?key=HZljsh2sXY'\n",
    "    path_to_zip_file = tf.keras.utils.get_file(\n",
    "        'chess_pieces.zip',\n",
    "        zip_url,\n",
    "        cache_dir=dataset_path, \n",
    "        cache_subdir='',\n",
    "        extract=False)\n",
    "    directory_to_extract_to = os.path.join(dataset_path,'chess_pieces')\n",
    "    with zipfile.ZipFile(path_to_zip_file, 'r') as zip_ref:\n",
    "        zip_ref.extractall(directory_to_extract_to)\n",
    "\n",
    "    images_dir = os.path.join(dataset_path, 'chess_pieces','train')\n",
    "    annotation_dir = os.path.join(dataset_path, 'chess_pieces','train')\n",
    "\n",
    "    for image in tqdm.tqdm(glob.glob(os.path.join(images_dir, '*.jpg'))):\n",
    "        new_name = image.replace('_jpg.rf.', '')\n",
    "        os.rename(image, new_name)\n",
    "\n",
    "        annotation = image.replace('.jpg', '.xml')\n",
    "        new_name = annotation.replace('_jpg.rf.', '')\n",
    "        os.rename(annotation, new_name)\n",
    "\n",
    "    return images_dir, annotation_dir"
   ]
  },
  {
   "cell_type": "code",
   "execution_count": 7,
   "metadata": {},
   "outputs": [
    {
     "name": "stderr",
     "output_type": "stream",
     "text": [
      "100%|██████████| 202/202 [00:00<00:00, 30631.96it/s]\n"
     ]
    }
   ],
   "source": [
    "images_dir, annotation_dir = download_chess_dataset('./')"
   ]
  },
  {
   "cell_type": "markdown",
   "metadata": {},
   "source": [
    "# SetUp pipeline"
   ]
  },
  {
   "cell_type": "code",
   "execution_count": 8,
   "metadata": {},
   "outputs": [
    {
     "name": "stderr",
     "output_type": "stream",
     "text": [
      "100%|███████████████████████████████████████████████████████████| 202/202 [00:00<00:00, 1144.87it/s]"
     ]
    },
    {
     "name": "stdout",
     "output_type": "stream",
     "text": [
      "\n",
      "\n",
      "Processing Training Dataset\n"
     ]
    },
    {
     "name": "stderr",
     "output_type": "stream",
     "text": [
      "\n",
      "100%|███████████████████████████████████████████████████████████| 161/161 [00:00<00:00, 1027.18it/s]\n",
      "100%|█████████████████████████████████████████████████████████████| 41/41 [00:00<00:00, 1320.87it/s]"
     ]
    },
    {
     "name": "stdout",
     "output_type": "stream",
     "text": [
      "\n",
      "Creating train Tfrecords\n",
      "\n",
      "Creating test Tfrecords\n"
     ]
    },
    {
     "name": "stderr",
     "output_type": "stream",
     "text": [
      "\n"
     ]
    }
   ],
   "source": [
    "pipe = ObjectDetectionPipe()\n",
    "\n",
    "pipe.add_data(\n",
    "    train_images_dir=images_dir,\n",
    "    train_anno_dir=annotation_dir,\n",
    "    annotation_format='pascal_voc',\n",
    "    split=0.2)\n",
    "\n",
    "pipe.lock_data()\n",
    "\n",
    "pipe.set_algo(feature_extractor='resnet50', config=RetinanetConfig())"
   ]
  },
  {
   "cell_type": "markdown",
   "metadata": {},
   "source": [
    "# Train"
   ]
  },
  {
   "cell_type": "code",
   "execution_count": 9,
   "metadata": {},
   "outputs": [
    {
     "name": "stdout",
     "output_type": "stream",
     "text": [
      "WARNING:tensorflow:`period` argument is deprecated. Please use `save_freq` to specify the frequency in number of batches seen.\n",
      "Epoch 1/10\n"
     ]
    },
    {
     "name": "stderr",
     "output_type": "stream",
     "text": [
      "2020/11/25 12:24:44 INFO segmind.store.tracking.rest_store: Artifact upload HTTP status code: 204\n"
     ]
    },
    {
     "name": "stdout",
     "output_type": "stream",
     "text": [
      "41/40 [==============================] - 32s 778ms/step - loss: 2.8985 - regression_loss: 2.1201 - classification_loss: 0.7784 - val_loss: 1.8645 - val_regression_loss: 1.4100 - val_classification_loss: 0.4545\n",
      "Epoch 2/10\n",
      "41/40 [==============================] - 31s 748ms/step - loss: 1.5387 - regression_loss: 1.1480 - classification_loss: 0.3907 - val_loss: 1.3989 - val_regression_loss: 1.0997 - val_classification_loss: 0.2992\n",
      "Epoch 3/10\n",
      "41/40 [==============================] - 31s 753ms/step - loss: 1.1994 - regression_loss: 0.9295 - classification_loss: 0.2698 - val_loss: 1.0659 - val_regression_loss: 0.8343 - val_classification_loss: 0.2316\n",
      "Epoch 4/10\n",
      "41/40 [==============================] - 31s 758ms/step - loss: 0.9583 - regression_loss: 0.7694 - classification_loss: 0.1889 - val_loss: 0.9293 - val_regression_loss: 0.7523 - val_classification_loss: 0.1770\n",
      "Epoch 5/10\n",
      "41/40 [==============================] - 31s 764ms/step - loss: 0.8236 - regression_loss: 0.6852 - classification_loss: 0.1385 - val_loss: 0.8421 - val_regression_loss: 0.7055 - val_classification_loss: 0.1366\n",
      "Epoch 6/10\n",
      "41/40 [==============================] - 32s 769ms/step - loss: 0.7796 - regression_loss: 0.6723 - classification_loss: 0.1073 - val_loss: 0.7254 - val_regression_loss: 0.6207 - val_classification_loss: 0.1047\n",
      "Epoch 7/10\n",
      "41/40 [==============================] - 32s 770ms/step - loss: 0.6624 - regression_loss: 0.5843 - classification_loss: 0.0781 - val_loss: 0.6655 - val_regression_loss: 0.5904 - val_classification_loss: 0.0751\n",
      "Epoch 8/10\n",
      "41/40 [==============================] - 32s 774ms/step - loss: 0.6431 - regression_loss: 0.5764 - classification_loss: 0.0667 - val_loss: 0.6849 - val_regression_loss: 0.5940 - val_classification_loss: 0.0909\n",
      "Epoch 9/10\n",
      "41/40 [==============================] - 32s 777ms/step - loss: 0.5924 - regression_loss: 0.5351 - classification_loss: 0.0573 - val_loss: 0.6622 - val_regression_loss: 0.5889 - val_classification_loss: 0.0734\n",
      "Epoch 10/10\n",
      "41/40 [==============================] - ETA: 0s - loss: 0.5658 - regression_loss: 0.5152 - classification_loss: 0.0506\n",
      "Epoch 00010: saving model to /tmp/retinanet_test_10.h5\n",
      "Uploading checkpoint /tmp/retinanet_test_10.h5 ...\n",
      "41/40 [==============================] - 34s 830ms/step - loss: 0.5658 - regression_loss: 0.5152 - classification_loss: 0.0506 - val_loss: 0.6575 - val_regression_loss: 0.5711 - val_classification_loss: 0.0864\n",
      "WARNING:tensorflow:From /usr/local/lib/python3.6/dist-packages/tensorflow/python/ops/resource_variable_ops.py:1666: calling BaseResourceVariable.__init__ (from tensorflow.python.ops.resource_variable_ops) with constraint is deprecated and will be removed in a future version.\n",
      "Instructions for updating:\n",
      "If using Keras pass *_constraint arguments to layers.\n",
      "INFO:tensorflow:Assets written to: /tmp/test_retinanet_final/assets\n",
      "Saved the final Model to :\n",
      " /tmp/test_retinanet_final\n"
     ]
    },
    {
     "name": "stderr",
     "output_type": "stream",
     "text": [
      "2020/11/25 12:30:55 INFO segmind.store.tracking.rest_store: Artifact upload HTTP status code: 204\n"
     ]
    }
   ],
   "source": [
    "from segmind.keras import CheckpointCallback, KerasCallback\n",
    "\n",
    "keras_cb = KerasCallback()\n",
    "ckpt_cb = CheckpointCallback(\n",
    "            snapshot_interval=10,\n",
    "            snapshot_path='/tmp',\n",
    "            checkpoint_prefix='retinanet_test')\n",
    "pipe.train(\n",
    "    num_epochs=10,\n",
    "    snapshot_prefix='test_retinanet',\n",
    "    snapshot_path='/tmp',\n",
    "    snapshot_every_n=10,\n",
    "    batch_size=4,\n",
    "    #steps_per_epoch=100,\n",
    "    callbacks=[keras_cb, ckpt_cb])"
   ]
  },
  {
   "cell_type": "markdown",
   "metadata": {},
   "source": [
    "# Inference"
   ]
  },
  {
   "cell_type": "markdown",
   "metadata": {},
   "source": [
    "## Imports"
   ]
  },
  {
   "cell_type": "code",
   "execution_count": 14,
   "metadata": {},
   "outputs": [],
   "source": [
    "from cral.models.object_detection import annotate_image\n",
    "from PIL import Image\n",
    "import numpy as np"
   ]
  },
  {
   "cell_type": "markdown",
   "metadata": {},
   "source": [
    "## Load checkpoint files"
   ]
  },
  {
   "cell_type": "code",
   "execution_count": 11,
   "metadata": {},
   "outputs": [
    {
     "name": "stdout",
     "output_type": "stream",
     "text": [
      "converting ...\n"
     ]
    }
   ],
   "source": [
    "checkpoint_file= '/tmp/test_retinanet_final'\n",
    "prediction_func= pipe.prediction_model(checkpoint_file= checkpoint_file)"
   ]
  },
  {
   "cell_type": "markdown",
   "metadata": {},
   "source": [
    "## Predict and annotate Image"
   ]
  },
  {
   "cell_type": "code",
   "execution_count": 16,
   "metadata": {},
   "outputs": [],
   "source": [
    "img_path= 'chess_pieces/test/5a35ba2ec3e0d0b2b12b1758a8ac29aa_jpg.rf.280f9940defacbb5d840aef65a9257e5.jpg'\n",
    "\n",
    "# make prediction\n",
    "bboxes, scores, labels= prediction_func(img_path)\n",
    "\n",
    "# draw predictions on image and save\n",
    "image_array= np.array(Image.open(img_path))\n",
    "drawn_image= annotate_image(image_array, bboxes, scores, labels, threshold=0.5)\n",
    "drawn_image.save('image_retinanet.jpeg')"
   ]
  }
 ],
 "metadata": {
  "kernelspec": {
   "display_name": "Python 3",
   "language": "python",
   "name": "python3"
  },
  "language_info": {
   "codemirror_mode": {
    "name": "ipython",
    "version": 3
   },
   "file_extension": ".py",
   "mimetype": "text/x-python",
   "name": "python",
   "nbconvert_exporter": "python",
   "pygments_lexer": "ipython3",
   "version": "3.6.9"
  }
 },
 "nbformat": 4,
 "nbformat_minor": 4
}
