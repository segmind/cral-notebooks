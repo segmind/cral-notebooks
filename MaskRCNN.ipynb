{
  "nbformat": 4,
  "nbformat_minor": 0,
  "metadata": {
    "kernelspec": {
      "name": "python3",
      "display_name": "Python 3"
    },
    "colab": {
      "name": "MaskRCNN.ipynb",
      "provenance": [],
      "collapsed_sections": [],
      "toc_visible": true,
      "machine_shape": "hm"
    }
  },
  "cells": [
    {
      "cell_type": "markdown",
      "metadata": {
        "id": "zjiPq6mRhKq1"
      },
      "source": [
        "# **Instance Segmentation on CRAL**\n",
        "\n",
        "Tutorial on how to use CRAL library for instance segmentation using MaskRCNN."
      ]
    },
    {
      "cell_type": "code",
      "metadata": {
        "id": "40eJnK4uhHql"
      },
      "source": [
        "import cral\n",
        "import tempfile"
      ],
      "execution_count": null,
      "outputs": []
    },
    {
      "cell_type": "code",
      "metadata": {
        "id": "rrYVZSo9ur53"
      },
      "source": [
        "import tensorflow as tf\n",
        "tf.python.control_flow_ops = tf"
      ],
      "execution_count": null,
      "outputs": []
    },
    {
      "cell_type": "markdown",
      "metadata": {
        "id": "OK7_VOFThcFt"
      },
      "source": [
        "**Configure CRAL**\n",
        "\n",
        "CRAL needs to be configured with cral config after installing the library. After running this, you will be asked for the email and password. Only after this will the tracking of the runs be possible"
      ]
    },
    {
      "cell_type": "code",
      "metadata": {
        "id": "S-g65nGsv4jr"
      },
      "source": [
        "!cral config"
      ],
      "execution_count": null,
      "outputs": []
    },
    {
      "cell_type": "markdown",
      "metadata": {
        "id": "cPu-2RRIkpgQ"
      },
      "source": [
        "**Experiment Tracking**\n",
        "\n",
        "This is a mandatory step to be run before training. It provides you statistics on training data and logs all the metrics, losses etc. in an online dashboard making it easier to evaluate the model and compare between different runs, which can help you set the right hyperparameters."
      ]
    },
    {
      "cell_type": "code",
      "metadata": {
        "id": "YtgNpaxNIqWS"
      },
      "source": [
        "from cral.pipeline.instance_segmentation_pipeline import InstanceSegPipe\n",
        "from cral.tracking import set_experiment\n",
        "set_experiment(\"your-experiment-id\")\n",
        "\n",
        "new_pipe = InstanceSegPipe()"
      ],
      "execution_count": null,
      "outputs": []
    },
    {
      "cell_type": "markdown",
      "metadata": {
        "id": "lF8bpCMdiFvh"
      },
      "source": [
        "**Path to Dataset**\n",
        "\n",
        "Supported formats : coco"
      ]
    },
    {
      "cell_type": "code",
      "metadata": {
        "id": "crHHzwXGiDQD"
      },
      "source": [
        "train_images_path = '/path/to/images/directory/'\n",
        "train_anno_path = '/path/to/annotations'"
      ],
      "execution_count": null,
      "outputs": []
    },
    {
      "cell_type": "markdown",
      "metadata": {
        "id": "Ml-PmVvXIo0I"
      },
      "source": [
        "**Add data and create tfrecords**"
      ]
    },
    {
      "cell_type": "code",
      "metadata": {
        "id": "yQj-OnWJIo0I"
      },
      "source": [
        "new_pipe.add_data(\n",
        "    train_images_dir=train_images_path,\n",
        "    train_anno_dir=train_anno_path,\n",
        "    annotation_format='coco',\n",
        "    split=0.2)\n",
        "\n",
        "meta_info = new_pipe.lock_data()"
      ],
      "execution_count": null,
      "outputs": []
    },
    {
      "cell_type": "code",
      "metadata": {
        "id": "oSfdrO86CL5R"
      },
      "source": [
        "meta_info"
      ],
      "execution_count": null,
      "outputs": []
    },
    {
      "cell_type": "markdown",
      "metadata": {
        "id": "vrlr8-ZTIo0N"
      },
      "source": [
        "**For MaskRCNN**\n",
        "\n",
        "Supported Backbones : resnet50, resnet101\n",
        "\n"
      ]
    },
    {
      "cell_type": "code",
      "metadata": {
        "id": "iWgld_NsIo0O"
      },
      "source": [
        "from cral.models.instance_segmentation.MaskRCNN import MaskRCNNConfig\n",
        "\n",
        "maskrcnn_config = MaskRCNNConfig(\n",
        "    height=1024, \n",
        "    width=1024, classes=int(meta_info['num_classes']))\n",
        "\n",
        "new_pipe.set_algo(\n",
        "    feature_extractor='resnet101',\n",
        "    config=maskrcnn_config, weights = 'coco')"
      ],
      "execution_count": null,
      "outputs": []
    },
    {
      "cell_type": "markdown",
      "metadata": {
        "id": "U2Zu6xdbIo0V"
      },
      "source": [
        "# Train\n",
        "\n",
        "\n",
        "Now that you have set the model, you can start training. Using train is very similar to the fit function in tensorflow.keras and it accepts many of the same arguments like epochs, batch_size etc. All your loss and metrics will be streamed from here onto track.segmind.com automatically where you can see and evaluate your model easily."
      ]
    },
    {
      "cell_type": "code",
      "metadata": {
        "scrolled": true,
        "id": "gs3FXNbkIo0W"
      },
      "source": [
        "new_pipe.train(\n",
        "    num_epochs=50,\n",
        "    snapshot_prefix='maskrcnn',\n",
        "    snapshot_path=tempfile.gettempdir(),\n",
        "    snapshot_every_n=5\n",
        "    )"
      ],
      "execution_count": null,
      "outputs": []
    },
    {
      "cell_type": "markdown",
      "metadata": {
        "id": "zLmJZ2WMuDim"
      },
      "source": [
        "**Prediction**\n",
        "\n",
        "After training you can use the model to get predictions on images that maybe or may not be a part of your initial dataset.\n",
        "\n",
        "Calling prediction_model will give you a function that can be used to get predictions on images."
      ]
    },
    {
      "cell_type": "code",
      "metadata": {
        "id": "fpU7BeF4DqxA"
      },
      "source": [
        "checkpoint_file = '/tmp/maskrcnn_final.h5'\n",
        "pred_func = new_pipe.prediction_model(checkpoint_file= checkpoint_file)"
      ],
      "execution_count": null,
      "outputs": []
    },
    {
      "cell_type": "markdown",
      "metadata": {
        "id": "XJ3ZLs7skU-K"
      },
      "source": [
        "\n",
        "**For FasterRCNN**\n",
        "\n",
        "Demonstrating the predicted results"
      ]
    },
    {
      "cell_type": "code",
      "metadata": {
        "id": "NJoAHSPyUs41"
      },
      "source": [
        "from cral.models.instance_segmentation import annotate_image\n",
        "import os\n",
        "\n",
        "import skimage\n",
        "real_test_dir = '/path/to/test/images/'\n",
        "image_paths = []\n",
        "for filename in os.listdir(real_test_dir):\n",
        "    if os.path.splitext(filename)[1].lower() in ['.png', '.jpg', '.jpeg']:\n",
        "        image_paths.append(os.path.join(real_test_dir, filename))\n",
        "\n",
        "for image_path in image_paths:\n",
        "  mask_array = pred_func(image_path)\n",
        "  annotate_image(image_path, mask_array['rois'], mask_array['masks'], mask_array['class_ids'], mask_array['scores'], figsize=(5,5))\n",
        "\n"
      ],
      "execution_count": null,
      "outputs": []
    }
  ]
}
