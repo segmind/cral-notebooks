{
  "nbformat": 4,
  "nbformat_minor": 0,
  "metadata": {
    "colab": {
      "name": "FasterRCNN.ipynb",
      "provenance": [],
      "collapsed_sections": []
    },
    "kernelspec": {
      "name": "python3",
      "display_name": "Python 3"
    }
  },
  "cells": [
    {
      "cell_type": "markdown",
      "metadata": {
        "id": "2othtfI7hdtZ"
      },
      "source": [
        "**Object Detection on CRAL**\n",
        "\n",
        "Tutorial on how to use CRAL library for object detection using FasterRCNN."
      ]
    },
    {
      "cell_type": "code",
      "metadata": {
        "id": "y2wzb3WrhcLE"
      },
      "source": [
        "import cral\n",
        "import tempfile"
      ],
      "execution_count": null,
      "outputs": []
    },
    {
      "cell_type": "code",
      "metadata": {
        "id": "aCZSqYN8nhxD"
      },
      "source": [
        "import tensorflow as tf\n",
        "tf.python.control_flow_ops = tf"
      ],
      "execution_count": null,
      "outputs": []
    },
    {
      "cell_type": "markdown",
      "metadata": {
        "id": "JzwqYqe4dvFF"
      },
      "source": [
        "**Configure CRAL**\n",
        "\n",
        "CRAL needs to be configured with cral config after installing the library. After running this, you will be asked for the email and password. Only after this will the tracking of the runs be possible"
      ]
    },
    {
      "cell_type": "code",
      "metadata": {
        "id": "-xIFG75innmr"
      },
      "source": [
        "!cral config"
      ],
      "execution_count": null,
      "outputs": []
    },
    {
      "cell_type": "markdown",
      "metadata": {
        "id": "tuiuhbxod2-T"
      },
      "source": [
        "**Experiment Tracking**\n",
        "\n",
        "This is a mandatory step to be run before training. It provides you statistics on training data and logs all the metrics, losses etc. in an online dashboard making it easier to evaluate the model and compare between different runs, which can help you set the right hyperparameters."
      ]
    },
    {
      "cell_type": "code",
      "metadata": {
        "id": "Ce7pUS9Hnnoy"
      },
      "source": [
        "from cral.pipeline.object_detection_pipeline import ObjectDetectionPipe\n",
        "from cral.tracking import set_experiment\n",
        "set_experiment(\"your-experiment-id\")\n",
        "\n",
        "new_pipe = ObjectDetectionPipe()"
      ],
      "execution_count": null,
      "outputs": []
    },
    {
      "cell_type": "markdown",
      "metadata": {
        "id": "Y-77AYzif4B-"
      },
      "source": [
        "Path to Dataset\n",
        "\n",
        "Supported formats :  coco"
      ]
    },
    {
      "cell_type": "code",
      "metadata": {
        "id": "73JZsSH4nntX"
      },
      "source": [
        "train_images_path = 'path/to/images/directory/'\n",
        "train_anno_path = '/path/to/annotations'"
      ],
      "execution_count": null,
      "outputs": []
    },
    {
      "cell_type": "markdown",
      "metadata": {
        "id": "er-zYpE7bM7B"
      },
      "source": [
        "**Add data and create Tfrecords**"
      ]
    },
    {
      "cell_type": "code",
      "metadata": {
        "id": "A69JRkmCnnva"
      },
      "source": [
        "new_pipe.add_data(\n",
        "    train_images_dir=train_images_path,\n",
        "    train_anno_dir=train_anno_path,\n",
        "    annotation_format='coco',\n",
        "    split=0.2)\n",
        "\n",
        "meta_info = new_pipe.lock_data()"
      ],
      "execution_count": null,
      "outputs": []
    },
    {
      "cell_type": "code",
      "metadata": {
        "id": "l4xb9ABGnnzX"
      },
      "source": [
        "meta_info"
      ],
      "execution_count": null,
      "outputs": []
    },
    {
      "cell_type": "markdown",
      "metadata": {
        "id": "HdLc-8uYbTV3"
      },
      "source": [
        "For FasterRCNN \n",
        "\n",
        "Supported Backbones : resnet50, resnet101\n",
        "\n",
        "\n"
      ]
    },
    {
      "cell_type": "code",
      "metadata": {
        "id": "wsqhUaXVnn1U"
      },
      "source": [
        "from cral.models.object_detection.FasterRCNN import FasterRCNNConfig\n",
        "\n",
        "fasterrcnn_config = FasterRCNNConfig(\n",
        "    height=1024, \n",
        "    width=1024, classes=int(meta_info['num_classes']))\n",
        "\n",
        "new_pipe.set_algo(\n",
        "    feature_extractor='resnet101',\n",
        "    config=fasterrcnn_config, weights = 'coco')"
      ],
      "execution_count": null,
      "outputs": []
    },
    {
      "cell_type": "markdown",
      "metadata": {
        "id": "r9o2IwzPbgO-"
      },
      "source": [
        "**Train** \n",
        "\n",
        "Now that you have set the model, you can start training. Using train is very similar to the fit function in tensorflow.keras and it accepts many of the same arguments like epochs, batch_size etc. All your loss and metrics will be streamed from here onto track.segmind.com automatically where you can see and evaluate your model easily."
      ]
    },
    {
      "cell_type": "code",
      "metadata": {
        "id": "hmsby4Jl1XVe"
      },
      "source": [
        "new_pipe.train(\n",
        "    num_epochs=200,\n",
        "    snapshot_prefix='Faster_rcnn',\n",
        "    snapshot_path=tempfile.gettempdir(),\n",
        "    snapshot_every_n=5,\n",
        "    steps_per_epoch=500\n",
        "    )"
      ],
      "execution_count": null,
      "outputs": []
    },
    {
      "cell_type": "markdown",
      "metadata": {
        "id": "Fux0wO4Dbvfy"
      },
      "source": [
        "**Prediction**\n",
        "\n",
        "After training you can use the model to get predictions on images that maybe or may not be a part of your initial dataset.\n",
        "\n",
        "Calling prediction_model will give you a function that can be used to get predictions on images.\n"
      ]
    },
    {
      "cell_type": "code",
      "metadata": {
        "id": "qvgwgU_g381B"
      },
      "source": [
        "checkpoint_file= '/tmp/Faster_rcnn_final.h5'\n",
        "pred_func = new_pipe.prediction_model(checkpoint_file= checkpoint_file)"
      ],
      "execution_count": null,
      "outputs": []
    },
    {
      "cell_type": "markdown",
      "metadata": {
        "id": "mS5pVBD-b98Y"
      },
      "source": [
        "**For FasterRCNN**\n",
        "\n",
        "Demonstrating the predicted results"
      ]
    },
    {
      "cell_type": "code",
      "metadata": {
        "id": "a_sHWbIB4OIu"
      },
      "source": [
        "from cral.models.object_detection import display_image\n",
        "import os\n",
        "\n",
        "import skimage\n",
        "real_test_dir = '/content/test'\n",
        "image_paths = []\n",
        "for filename in os.listdir(real_test_dir):\n",
        "    if os.path.splitext(filename)[1].lower() in ['.png', '.jpg', '.jpeg']:\n",
        "        image_paths.append(os.path.join(real_test_dir, filename))\n",
        "\n",
        "for image_path in image_paths:\n",
        "  array = pred_func(image_path)\n",
        "  display_image(image_path, array['rois'], array['class_ids'], array['scores'], figsize=(5,5))"
      ],
      "execution_count": null,
      "outputs": []
    }
  ]
}