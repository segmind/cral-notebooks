{
  "nbformat": 4,
  "nbformat_minor": 0,
  "metadata": {
    "colab": {
      "name": "Classification_tutorial.ipynb",
      "provenance": [],
      "collapsed_sections": []
    },
    "kernelspec": {
      "name": "python3",
      "display_name": "Python 3"
    }
  },
  "cells": [
    {
      "cell_type": "markdown",
      "metadata": {
        "id": "Li8F4XxaFF2u",
        "colab_type": "text"
      },
      "source": [
        "# Classification on CRAL\n",
        "\n",
        "\n",
        "Tutorial on how to use CRAL library for classification."
      ]
    },
    {
      "cell_type": "markdown",
      "metadata": {
        "id": "50rCJkZbZ-nN",
        "colab_type": "text"
      },
      "source": [
        "Supported classification models: `DenseNet121` `DenseNet169` `DenseNet201` `InceptionResNetV2` `InceptionV3` `MobileNet` `MobileNetV2` `NASNetLarge` `NASNetMobile` `ResNet50` `ResNet101` `ResNet152` `ResNet50V2` `ResNet101V2` `ResNet152V2` `VGG16` `VGG19` `Xception` `EfficientNetB0` `EfficientNetB1` `EfficientNetB2` `EfficientNetB3` `EfficientNetB4` `EfficientNetB5` `EfficientNetB6` `EfficientNetB7` `DarkNet53`"
      ]
    },
    {
      "cell_type": "markdown",
      "metadata": {
        "id": "cuATNqVdHG91",
        "colab_type": "text"
      },
      "source": [
        "### 0. **Getting started** \n",
        "\n"
      ]
    },
    {
      "cell_type": "markdown",
      "metadata": {
        "id": "dTuMdzhSHyDa",
        "colab_type": "text"
      },
      "source": [
        "0.1 Install CRAL"
      ]
    },
    {
      "cell_type": "code",
      "metadata": {
        "id": "nmnXugucHcf8",
        "colab_type": "code",
        "colab": {}
      },
      "source": [
        "!pip3 install cral"
      ],
      "execution_count": null,
      "outputs": []
    },
    {
      "cell_type": "markdown",
      "metadata": {
        "id": "XreK2CgSH41q",
        "colab_type": "text"
      },
      "source": [
        "0.2 Create an account on [track.segmind.com](https://track.segmind.com/) to track runs"
      ]
    },
    {
      "cell_type": "markdown",
      "metadata": {
        "id": "Z7SPYhczIAjw",
        "colab_type": "text"
      },
      "source": [
        "0.3 Configure CRAL\n",
        "\n",
        "\n",
        "CRAL needs to be configured with `cral config` after installing the library. After running this, you will be asked for the email and password.\n",
        "Only after this will the tracking of the runs be possible."
      ]
    },
    {
      "cell_type": "code",
      "metadata": {
        "id": "dyqnvf3IHdR9",
        "colab_type": "code",
        "colab": {}
      },
      "source": [
        "!cral config"
      ],
      "execution_count": null,
      "outputs": []
    },
    {
      "cell_type": "markdown",
      "metadata": {
        "id": "Shl8RJpLGpon",
        "colab_type": "text"
      },
      "source": [
        "### 1. **Experiment tracking** \n",
        "\n",
        "\n",
        "This is a mandatory step to be run before training. It provides you statistics on training data and logs all the metrics, losses etc. in an online dashboard making it easier to evaluate the model and compare between different runs, which can help you set the right hyperparameters. \n",
        "\n",
        "Generate experiment ID on [track.segmind.com](https://track.segmind.com/) to track your run and refer [here](https://cral.segmind.com/en/api/tracking) for instructions to log custom metadata and artifacts."
      ]
    },
    {
      "cell_type": "code",
      "metadata": {
        "id": "8i9SFfdjE684",
        "colab_type": "code",
        "colab": {}
      },
      "source": [
        "from cral.tracking import set_experiment\n",
        "\n",
        "set_experiment(\"your-experiment-ID\")"
      ],
      "execution_count": null,
      "outputs": []
    },
    {
      "cell_type": "markdown",
      "metadata": {
        "colab_type": "text",
        "id": "XnF18hduLx3g"
      },
      "source": [
        "###2. **Initiate classification pipeline**\n",
        "\n",
        "\n",
        "This initiates the classification pipeline. It also creates project related files that are needed later during training and inference."
      ]
    },
    {
      "cell_type": "code",
      "metadata": {
        "id": "P19ZmFbTLxeE",
        "colab_type": "code",
        "colab": {}
      },
      "source": [
        "from cral.pipeline import ClassificationPipe\n",
        "\n",
        "pipe= ClassificationPipe()"
      ],
      "execution_count": null,
      "outputs": []
    },
    {
      "cell_type": "markdown",
      "metadata": {
        "id": "1srDknJJK0L8",
        "colab_type": "text"
      },
      "source": [
        "###3. **Add data**\n",
        "\n",
        "\n",
        "This parses the dataset once to generate metadata and versions the data. \n",
        "\n",
        "\n",
        "If you do not have a seperate validation set, you can divide the training dataset into training and validation using *split* argument. Otherwise, provide the path to the validation images and annotations.\n",
        "\n"
      ]
    },
    {
      "cell_type": "code",
      "metadata": {
        "id": "Xi9UYmfZMxUn",
        "colab_type": "code",
        "colab": {}
      },
      "source": [
        "pipe.add_data(\n",
        "    train_images_dir= \"/path/to/images/folder\",\n",
        "    val_images_dir= None,\n",
        "    split= 0.2)                                             "
      ],
      "execution_count": null,
      "outputs": []
    },
    {
      "cell_type": "markdown",
      "metadata": {
        "colab_type": "text",
        "id": "1GMJcv8VQuoH"
      },
      "source": [
        "###4. **Lock data**\n",
        "\n",
        "This parses the data and makes Tf-records. Tf-records are part of the [tf.data](https://www.tensorflow.org/guide/data) API which makes the data ingestion into the model faster and hence reduces the training time.\n",
        "\n"
      ]
    },
    {
      "cell_type": "code",
      "metadata": {
        "colab_type": "code",
        "id": "yJpkaSnaQuoU",
        "colab": {}
      },
      "source": [
        "pipe.lock_data()"
      ],
      "execution_count": null,
      "outputs": []
    },
    {
      "cell_type": "markdown",
      "metadata": {
        "id": "xpOkAb8hPjl1",
        "colab_type": "text"
      },
      "source": [
        "###5. **Set algorithm**"
      ]
    },
    {
      "cell_type": "markdown",
      "metadata": {
        "id": "crCuuYVwd9xi",
        "colab_type": "text"
      },
      "source": [
        "### 5.1 MLPConfig\n",
        "\n",
        "\n",
        "You can change model's head to match custom datasets here. Refer [documentation](https://cral.segmind.com/en/api/data-pipeline#mlpconfig) for the list of accepted arguments."
      ]
    },
    {
      "cell_type": "code",
      "metadata": {
        "id": "dlyDIswqd-U_",
        "colab_type": "code",
        "colab": {}
      },
      "source": [
        "from cral.models.classification import MLPConfig\n",
        "\n",
        "config= MLPConfig(\n",
        "    height= 512,\n",
        "    width= 512,\n",
        "    fully_connected_layer= [512, 512], \n",
        "    hidden_layer_activation= \"relu\",\n",
        "    final_layer_activation= \"softmax\")"
      ],
      "execution_count": null,
      "outputs": []
    },
    {
      "cell_type": "markdown",
      "metadata": {
        "id": "ZUJMj_YZd-5z",
        "colab_type": "text"
      },
      "source": [
        "###5.2 Instantiate classification model\n",
        "\n",
        "You can instantiate different classification models here.\n",
        "\n",
        "You can use any of the supported classification models. You can find the model specific arguments [here](https://cral.segmind.com/api/models/classification). Do not forget to change **network_name** to the network of your choice."
      ]
    },
    {
      "cell_type": "code",
      "metadata": {
        "id": "SATJJQImQVrO",
        "colab_type": "code",
        "colab": {}
      },
      "source": [
        "pipe.set_algo(\n",
        "    feature_extractor= \"network_name\",\n",
        "    config= config,\n",
        "    weights= \"imagenet\", \n",
        "    preprocessing_fn= None)"
      ],
      "execution_count": null,
      "outputs": []
    },
    {
      "cell_type": "markdown",
      "metadata": {
        "colab_type": "text",
        "id": "oJOHEYjPaHGy"
      },
      "source": [
        "###6. **Train**\n",
        "\n",
        "Now that you have set the model, you can start training.\n",
        "Using train is very similar to the *fit* function in tensorflow.keras and it accepts many of the same arguments like epochs, batch_size etc. All your loss and metrics will be streamed from here onto [track.segmind.com](http://track.segmind.com/) automatically where you can see and evaluate your model easily.\n",
        "\n",
        "\n",
        "Refer [here](https://cral.segmind.com/en/api/data-pipeline#train) for a list of accepted arguments."
      ]
    },
    {
      "cell_type": "code",
      "metadata": {
        "colab_type": "code",
        "id": "BksXpmWQaHG3",
        "colab": {}
      },
      "source": [
        "pipe.train(\n",
        "    num_epochs= 20,\n",
        "    batch_size= 4,\n",
        "    snapshot_prefix= \"test\",\n",
        "    snapshot_path= \"snapshots\",\n",
        "    snapshot_every_n= 2)"
      ],
      "execution_count": null,
      "outputs": []
    },
    {
      "cell_type": "markdown",
      "metadata": {
        "colab_type": "text",
        "id": "Ltp4Fq5fkZcG"
      },
      "source": [
        "###7. **Prediction**\n",
        "\n",
        "After training you can use the model to get predictions on images that maybe or may not be a part of your initial dataset.\n",
        "\n",
        "Calling `prediction_model` will give you a function that can be used to get predictions on images."
      ]
    },
    {
      "cell_type": "code",
      "metadata": {
        "colab_type": "code",
        "id": "7JMdQYmbkq8I",
        "colab": {}
      },
      "source": [
        "checkpoint_file= \"snapshots/test_final\"\n",
        "prediction_func= pipe.prediction_model(checkpoint_file= checkpoint_file)\n",
        "\n",
        "img_path= \"path/to/test/image\"\n",
        "prediction= prediction_func(img_path)\n",
        "print(prediction)"
      ],
      "execution_count": null,
      "outputs": []
    },
    {
      "cell_type": "markdown",
      "metadata": {
        "id": "E8ntAy5Clc_e",
        "colab_type": "text"
      },
      "source": [
        "Refer our [documentation](https://cral.segmind.com/en/api/data-pipeline#more-information-examples) for more information and examples."
      ]
    }
  ]
}